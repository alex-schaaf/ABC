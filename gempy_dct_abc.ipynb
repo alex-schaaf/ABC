{
 "cells": [
  {
   "cell_type": "code",
   "execution_count": 1,
   "metadata": {},
   "outputs": [
    {
     "name": "stdout",
     "output_type": "stream",
     "text": [
      "Devito is not working\n"
     ]
    },
    {
     "name": "stderr",
     "output_type": "stream",
     "text": [
      "Can not use cuDNN on context None: cannot compile with cuDNN. We got this error:\n",
      "b'C:\\\\Users\\\\r02as18\\\\AppData\\\\Local\\\\Temp\\\\try_flags_a52xgtod.c:4:19: fatal error: cudnn.h: No such file or directory\\r\\ncompilation terminated.\\r\\n'\n",
      "Mapped name None to device cuda: Quadro M1200 (0000:01:00.0)\n"
     ]
    },
    {
     "name": "stdout",
     "output_type": "stream",
     "text": [
      "Freenect is not installed. Sandbox wont work. Good luck\n"
     ]
    }
   ],
   "source": [
    "import sys\n",
    "import scipy.stats as ss\n",
    "import numpy as np\n",
    "import matplotlib.pyplot as plt\n",
    "%matplotlib inline\n",
    "sys.path.append(\"C:/Users/r02as18/git/gempy/\")\n",
    "import gempy as gp"
   ]
  },
  {
   "cell_type": "code",
   "execution_count": 2,
   "metadata": {},
   "outputs": [],
   "source": [
    "geo_data = gp.create_data([0,2000,0,2000,0,2000],\n",
    "                          [100,100,100],\n",
    "                          path_o = \"C:/Users/r02as18/git/gempy/notebooks/input_data/tut_chapter1/simple_fault_model_orientations.csv\", # importing orientation (foliation) data\n",
    "                          path_i = \"C:/Users/r02as18/git/gempy/notebooks/input_data/tut_chapter1/simple_fault_model_points.csv\") # importing point-positional interface data\n",
    "\n",
    "gp.set_series(geo_data, {\"Fault_Series\":'Main_Fault',\n",
    "                         \"Strat_Series\": ('Sandstone_2','Siltstone', 'Shale', 'Sandstone_1')},\n",
    "                          order_series = [\"Fault_Series\", 'Strat_Series'],\n",
    "                          order_formations=['Main_Fault',\n",
    "                                            'Sandstone_2','Siltstone', 'Shale', 'Sandstone_1'], verbose=0)"
   ]
  },
  {
   "cell_type": "code",
   "execution_count": 3,
   "metadata": {},
   "outputs": [
    {
     "name": "stdout",
     "output_type": "stream",
     "text": [
      "Compiling theano function...\n",
      "Compilation Done!\n",
      "Level of Optimization:  fast_compile\n",
      "Device:  cuda\n",
      "Precision:  float32\n",
      "Number of faults:  1\n"
     ]
    }
   ],
   "source": [
    "interp_data = gp.InterpolatorData(geo_data, u_grade=[1,1], output='geology', compile_theano=True, theano_optimizer='fast_compile')"
   ]
  },
  {
   "cell_type": "code",
   "execution_count": 4,
   "metadata": {},
   "outputs": [],
   "source": [
    "grid = []\n",
    "for x in np.arange(0,2000,20):\n",
    "    for y in [1000]:\n",
    "        for z in np.arange(0,2000,20):\n",
    "            grid.append([x,y,z])\n",
    "grid = np.array(grid)"
   ]
  },
  {
   "cell_type": "code",
   "execution_count": 162,
   "metadata": {},
   "outputs": [],
   "source": [
    "interp_data.geo_data_res = geo_data_res_stoch\n",
    "interp_data.update_interpolator()"
   ]
  },
  {
   "cell_type": "code",
   "execution_count": 167,
   "metadata": {},
   "outputs": [
    {
     "data": {
      "image/png": "[encoded data removed]",
      "text/plain": [
       "<Figure size 432x288 with 1 Axes>"
      ]
     },
     "metadata": {},
     "output_type": "display_data"
    }
   ],
   "source": [
    "lb, fb = gp.compute_model_at(grid, interp_data)\n",
    "plt.imshow(lb[0].reshape(100,100).T, origin=\"lower\", cmap=gp.plotting.colors.cmap, norm=gp.plotting.colors.norm);"
   ]
  },
  {
   "cell_type": "code",
   "execution_count": 37,
   "metadata": {},
   "outputs": [],
   "source": [
    "geo_data.resolution = [100, 1, 100]\n",
    "G, C, *topo = gp.topology_compute(geo_data, lb[0], fb[::2])"
   ]
  },
  {
   "cell_type": "code",
   "execution_count": 8,
   "metadata": {},
   "outputs": [],
   "source": [
    "from copy import deepcopy\n",
    "geo_data_res_stoch = deepcopy(interp_data.geo_data_res)"
   ]
  },
  {
   "cell_type": "code",
   "execution_count": 104,
   "metadata": {},
   "outputs": [],
   "source": [
    "priors = []\n",
    "priors_names = []\n",
    "\n",
    "for fmt in geo_data.formations.index:\n",
    "    if \"fault\" in fmt or \"Fault\" in fmt or \"basement\" in fmt:\n",
    "        continue\n",
    "    priors.append(ss.norm(0,100))\n",
    "    priors_names.append(fmt)"
   ]
  },
  {
   "cell_type": "code",
   "execution_count": 153,
   "metadata": {},
   "outputs": [],
   "source": [
    "# sample\n",
    "n_iter = 1000\n",
    "prior_samples = []\n",
    "for prior in priors:\n",
    "    prior_samples.append(prior.rvs(n_iter))\n",
    "    \n",
    "prior_samples = np.array(prior_samples)"
   ]
  },
  {
   "cell_type": "code",
   "execution_count": 106,
   "metadata": {},
   "outputs": [
    {
     "data": {
      "text/plain": [
       "(4, 100)"
      ]
     },
     "execution_count": 106,
     "metadata": {},
     "output_type": "execute_result"
    }
   ],
   "source": [
    "prior_samples.shape"
   ]
  },
  {
   "cell_type": "markdown",
   "metadata": {},
   "source": [
    "## Forward simulate models"
   ]
  },
  {
   "cell_type": "code",
   "execution_count": 154,
   "metadata": {},
   "outputs": [
    {
     "name": "stderr",
     "output_type": "stream",
     "text": [
      "  0%|                                                                                                | 0/1000 [00:00<?, ?it/s]C:\\Users\\r02as18\\AppData\\Local\\Continuum\\anaconda3\\lib\\site-packages\\ipykernel\\__main__.py:8: FutureWarning: set_value is deprecated and will be removed in a future release. Please use .at[] or .iat[] accessors instead\n",
      "  2%|█▋                                                                                     | 19/1000 [00:05<04:19,  3.78it/s]C:\\Users\\r02as18\\AppData\\Local\\Continuum\\anaconda3\\lib\\site-packages\\scipy\\linalg\\basic.py:40: RuntimeWarning: scipy.linalg.solve\n",
      "Ill-conditioned matrix detected. Result is not guaranteed to be accurate.\n",
      "Reciprocal condition number/precision: 3.5693840771955365e-08 / 5.960464477539063e-08\n",
      "  RuntimeWarning)\n",
      "  6%|█████▋                                                                                 | 65/1000 [00:17<04:13,  3.69it/s]C:\\Users\\r02as18\\AppData\\Local\\Continuum\\anaconda3\\lib\\site-packages\\scipy\\linalg\\basic.py:40: RuntimeWarning: scipy.linalg.solve\n",
      "Ill-conditioned matrix detected. Result is not guaranteed to be accurate.\n",
      "Reciprocal condition number/precision: 4.428866873240622e-08 / 5.960464477539063e-08\n",
      "  RuntimeWarning)\n",
      " 12%|█████████▉                                                                            | 115/1000 [00:31<04:03,  3.63it/s]C:\\Users\\r02as18\\AppData\\Local\\Continuum\\anaconda3\\lib\\site-packages\\scipy\\linalg\\basic.py:40: RuntimeWarning: scipy.linalg.solve\n",
      "Ill-conditioned matrix detected. Result is not guaranteed to be accurate.\n",
      "Reciprocal condition number/precision: 3.750490407128382e-08 / 5.960464477539063e-08\n",
      "  RuntimeWarning)\n",
      " 12%|██████████▏                                                                           | 119/1000 [00:32<04:02,  3.63it/s]C:\\Users\\r02as18\\AppData\\Local\\Continuum\\anaconda3\\lib\\site-packages\\scipy\\linalg\\basic.py:40: RuntimeWarning: scipy.linalg.solve\n",
      "Ill-conditioned matrix detected. Result is not guaranteed to be accurate.\n",
      "Reciprocal condition number/precision: 4.313598722660572e-08 / 5.960464477539063e-08\n",
      "  RuntimeWarning)\n",
      " 13%|███████████                                                                           | 129/1000 [00:35<04:00,  3.63it/s]C:\\Users\\r02as18\\AppData\\Local\\Continuum\\anaconda3\\lib\\site-packages\\scipy\\linalg\\basic.py:40: RuntimeWarning: scipy.linalg.solve\n",
      "Ill-conditioned matrix detected. Result is not guaranteed to be accurate.\n",
      "Reciprocal condition number/precision: 3.9375958493792496e-08 / 5.960464477539063e-08\n",
      "  RuntimeWarning)\n",
      " 14%|███████████▌                                                                          | 135/1000 [00:37<03:58,  3.63it/s]C:\\Users\\r02as18\\AppData\\Local\\Continuum\\anaconda3\\lib\\site-packages\\scipy\\linalg\\basic.py:40: RuntimeWarning: scipy.linalg.solve\n",
      "Ill-conditioned matrix detected. Result is not guaranteed to be accurate.\n",
      "Reciprocal condition number/precision: 4.1585007437561217e-08 / 5.960464477539063e-08\n",
      "  RuntimeWarning)\n",
      " 16%|█████████████▊                                                                        | 160/1000 [00:43<03:50,  3.64it/s]C:\\Users\\r02as18\\AppData\\Local\\Continuum\\anaconda3\\lib\\site-packages\\scipy\\linalg\\basic.py:40: RuntimeWarning: scipy.linalg.solve\n",
      "Ill-conditioned matrix detected. Result is not guaranteed to be accurate.\n",
      "Reciprocal condition number/precision: 4.99698309397445e-08 / 5.960464477539063e-08\n",
      "  RuntimeWarning)\n",
      " 18%|███████████████▋                                                                      | 183/1000 [00:50<03:43,  3.65it/s]C:\\Users\\r02as18\\AppData\\Local\\Continuum\\anaconda3\\lib\\site-packages\\scipy\\linalg\\basic.py:40: RuntimeWarning: scipy.linalg.solve\n",
      "Ill-conditioned matrix detected. Result is not guaranteed to be accurate.\n",
      "Reciprocal condition number/precision: 4.6344116100272004e-08 / 5.960464477539063e-08\n",
      "  RuntimeWarning)\n",
      " 20%|████████████████▊                                                                     | 196/1000 [00:53<03:40,  3.65it/s]C:\\Users\\r02as18\\AppData\\Local\\Continuum\\anaconda3\\lib\\site-packages\\scipy\\linalg\\basic.py:40: RuntimeWarning: scipy.linalg.solve\n",
      "Ill-conditioned matrix detected. Result is not guaranteed to be accurate.\n",
      "Reciprocal condition number/precision: 4.6613848780907574e-08 / 5.960464477539063e-08\n",
      "  RuntimeWarning)\n",
      " 27%|██████████████████████▉                                                               | 266/1000 [01:12<03:20,  3.65it/s]C:\\Users\\r02as18\\AppData\\Local\\Continuum\\anaconda3\\lib\\site-packages\\scipy\\linalg\\basic.py:40: RuntimeWarning: scipy.linalg.solve\n",
      "Ill-conditioned matrix detected. Result is not guaranteed to be accurate.\n",
      "Reciprocal condition number/precision: 5.394291235916171e-08 / 5.960464477539063e-08\n",
      "  RuntimeWarning)\n",
      " 32%|███████████████████████████▍                                                          | 319/1000 [01:27<03:06,  3.66it/s]C:\\Users\\r02as18\\AppData\\Local\\Continuum\\anaconda3\\lib\\site-packages\\scipy\\linalg\\basic.py:40: RuntimeWarning: scipy.linalg.solve\n",
      "Ill-conditioned matrix detected. Result is not guaranteed to be accurate.\n",
      "Reciprocal condition number/precision: 4.219385374426565e-08 / 5.960464477539063e-08\n",
      "  RuntimeWarning)\n",
      " 34%|█████████████████████████████▏                                                        | 340/1000 [01:32<03:00,  3.66it/s]C:\\Users\\r02as18\\AppData\\Local\\Continuum\\anaconda3\\lib\\site-packages\\scipy\\linalg\\basic.py:40: RuntimeWarning: scipy.linalg.solve\n",
      "Ill-conditioned matrix detected. Result is not guaranteed to be accurate.\n",
      "Reciprocal condition number/precision: 4.404477493835657e-08 / 5.960464477539063e-08\n",
      "  RuntimeWarning)\n",
      " 35%|██████████████████████████████▎                                                       | 353/1000 [01:36<02:57,  3.65it/s]C:\\Users\\r02as18\\AppData\\Local\\Continuum\\anaconda3\\lib\\site-packages\\scipy\\linalg\\basic.py:40: RuntimeWarning: scipy.linalg.solve\n",
      "Ill-conditioned matrix detected. Result is not guaranteed to be accurate.\n",
      "Reciprocal condition number/precision: 4.5345085908365945e-08 / 5.960464477539063e-08\n",
      "  RuntimeWarning)\n",
      " 37%|████████████████████████████████                                                      | 373/1000 [01:42<02:51,  3.65it/s]C:\\Users\\r02as18\\AppData\\Local\\Continuum\\anaconda3\\lib\\site-packages\\scipy\\linalg\\basic.py:40: RuntimeWarning: scipy.linalg.solve\n",
      "Ill-conditioned matrix detected. Result is not guaranteed to be accurate.\n",
      "Reciprocal condition number/precision: 5.293699345543246e-08 / 5.960464477539063e-08\n",
      "  RuntimeWarning)\n",
      " 38%|████████████████████████████████▊                                                     | 381/1000 [01:44<02:49,  3.66it/s]C:\\Users\\r02as18\\AppData\\Local\\Continuum\\anaconda3\\lib\\site-packages\\scipy\\linalg\\basic.py:40: RuntimeWarning: scipy.linalg.solve\n",
      "Ill-conditioned matrix detected. Result is not guaranteed to be accurate.\n",
      "Reciprocal condition number/precision: 4.3681719574806266e-08 / 5.960464477539063e-08\n",
      "  RuntimeWarning)\n",
      " 40%|█████████████████████████████████▉                                                    | 395/1000 [01:48<02:45,  3.66it/s]C:\\Users\\r02as18\\AppData\\Local\\Continuum\\anaconda3\\lib\\site-packages\\scipy\\linalg\\basic.py:40: RuntimeWarning: scipy.linalg.solve\n",
      "Ill-conditioned matrix detected. Result is not guaranteed to be accurate.\n",
      "Reciprocal condition number/precision: 5.065956898420154e-08 / 5.960464477539063e-08\n",
      "  RuntimeWarning)\n",
      " 42%|████████████████████████████████████▍                                                 | 423/1000 [01:55<02:37,  3.65it/s]C:\\Users\\r02as18\\AppData\\Local\\Continuum\\anaconda3\\lib\\site-packages\\scipy\\linalg\\basic.py:40: RuntimeWarning: scipy.linalg.solve\n",
      "Ill-conditioned matrix detected. Result is not guaranteed to be accurate.\n",
      "Reciprocal condition number/precision: 5.354448262551159e-08 / 5.960464477539063e-08\n",
      "  RuntimeWarning)\n",
      " 45%|██████████████████████████████████████▋                                               | 450/1000 [02:03<02:30,  3.65it/s]C:\\Users\\r02as18\\AppData\\Local\\Continuum\\anaconda3\\lib\\site-packages\\scipy\\linalg\\basic.py:40: RuntimeWarning: scipy.linalg.solve\n",
      "Ill-conditioned matrix detected. Result is not guaranteed to be accurate.\n",
      "Reciprocal condition number/precision: 5.011089854178863e-08 / 5.960464477539063e-08\n",
      "  RuntimeWarning)\n",
      " 50%|███████████████████████████████████████████                                           | 501/1000 [02:17<02:16,  3.65it/s]C:\\Users\\r02as18\\AppData\\Local\\Continuum\\anaconda3\\lib\\site-packages\\scipy\\linalg\\basic.py:40: RuntimeWarning: scipy.linalg.solve\n",
      "Ill-conditioned matrix detected. Result is not guaranteed to be accurate.\n",
      "Reciprocal condition number/precision: 4.486913951495808e-08 / 5.960464477539063e-08\n",
      "  RuntimeWarning)\n",
      " 51%|███████████████████████████████████████████▊                                          | 509/1000 [02:19<02:14,  3.65it/s]C:\\Users\\r02as18\\AppData\\Local\\Continuum\\anaconda3\\lib\\site-packages\\scipy\\linalg\\basic.py:40: RuntimeWarning: scipy.linalg.solve\n",
      "Ill-conditioned matrix detected. Result is not guaranteed to be accurate.\n",
      "Reciprocal condition number/precision: 4.318815172155155e-08 / 5.960464477539063e-08\n",
      "  RuntimeWarning)\n",
      " 51%|████████████████████████████████████████████                                          | 513/1000 [02:20<02:13,  3.65it/s]C:\\Users\\r02as18\\AppData\\Local\\Continuum\\anaconda3\\lib\\site-packages\\scipy\\linalg\\basic.py:40: RuntimeWarning: scipy.linalg.solve\n",
      "Ill-conditioned matrix detected. Result is not guaranteed to be accurate.\n",
      "Reciprocal condition number/precision: 4.169818978994044e-08 / 5.960464477539063e-08\n",
      "  RuntimeWarning)\n",
      " 52%|████████████████████████████████████████████▋                                         | 520/1000 [02:22<02:11,  3.65it/s]C:\\Users\\r02as18\\AppData\\Local\\Continuum\\anaconda3\\lib\\site-packages\\scipy\\linalg\\basic.py:40: RuntimeWarning: scipy.linalg.solve\n",
      "Ill-conditioned matrix detected. Result is not guaranteed to be accurate.\n",
      "Reciprocal condition number/precision: 4.111283047336656e-08 / 5.960464477539063e-08\n",
      "  RuntimeWarning)\n",
      " 52%|████████████████████████████████████████████▉                                         | 522/1000 [02:22<02:10,  3.65it/s]C:\\Users\\r02as18\\AppData\\Local\\Continuum\\anaconda3\\lib\\site-packages\\scipy\\linalg\\basic.py:40: RuntimeWarning: scipy.linalg.solve\n",
      "Ill-conditioned matrix detected. Result is not guaranteed to be accurate.\n",
      "Reciprocal condition number/precision: 4.133526232408258e-08 / 5.960464477539063e-08\n",
      "  RuntimeWarning)\n",
      " 57%|█████████████████████████████████████████████████                                     | 570/1000 [02:36<01:57,  3.65it/s]C:\\Users\\r02as18\\AppData\\Local\\Continuum\\anaconda3\\lib\\site-packages\\scipy\\linalg\\basic.py:40: RuntimeWarning: scipy.linalg.solve\n",
      "Ill-conditioned matrix detected. Result is not guaranteed to be accurate.\n",
      "Reciprocal condition number/precision: 3.715192775644027e-08 / 5.960464477539063e-08\n",
      "  RuntimeWarning)\n",
      " 58%|█████████████████████████████████████████████████▋                                    | 578/1000 [02:38<01:55,  3.65it/s]C:\\Users\\r02as18\\AppData\\Local\\Continuum\\anaconda3\\lib\\site-packages\\scipy\\linalg\\basic.py:40: RuntimeWarning: scipy.linalg.solve\n",
      "Ill-conditioned matrix detected. Result is not guaranteed to be accurate.\n",
      "Reciprocal condition number/precision: 4.923754204355646e-08 / 5.960464477539063e-08\n",
      "  RuntimeWarning)\n",
      " 59%|███████████████████████████████████████████████████                                   | 594/1000 [02:42<01:51,  3.65it/s]C:\\Users\\r02as18\\AppData\\Local\\Continuum\\anaconda3\\lib\\site-packages\\scipy\\linalg\\basic.py:40: RuntimeWarning: scipy.linalg.solve\n",
      "Ill-conditioned matrix detected. Result is not guaranteed to be accurate.\n",
      "Reciprocal condition number/precision: 4.6929727659517084e-08 / 5.960464477539063e-08\n",
      "  RuntimeWarning)\n",
      " 60%|███████████████████████████████████████████████████▉                                  | 604/1000 [02:45<01:48,  3.65it/s]C:\\Users\\r02as18\\AppData\\Local\\Continuum\\anaconda3\\lib\\site-packages\\scipy\\linalg\\basic.py:40: RuntimeWarning: scipy.linalg.solve\n",
      "Ill-conditioned matrix detected. Result is not guaranteed to be accurate.\n",
      "Reciprocal condition number/precision: 3.809803317267324e-08 / 5.960464477539063e-08\n",
      "  RuntimeWarning)\n",
      " 62%|█████████████████████████████████████████████████████▎                                | 620/1000 [02:49<01:43,  3.66it/s]C:\\Users\\r02as18\\AppData\\Local\\Continuum\\anaconda3\\lib\\site-packages\\scipy\\linalg\\basic.py:40: RuntimeWarning: scipy.linalg.solve\n",
      "Ill-conditioned matrix detected. Result is not guaranteed to be accurate.\n",
      "Reciprocal condition number/precision: 5.7640001216441306e-08 / 5.960464477539063e-08\n",
      "  RuntimeWarning)\n",
      " 62%|█████████████████████████████████████████████████████▍                                | 621/1000 [02:49<01:43,  3.66it/s]C:\\Users\\r02as18\\AppData\\Local\\Continuum\\anaconda3\\lib\\site-packages\\scipy\\linalg\\basic.py:40: RuntimeWarning: scipy.linalg.solve\n",
      "Ill-conditioned matrix detected. Result is not guaranteed to be accurate.\n",
      "Reciprocal condition number/precision: 4.039277712308831e-08 / 5.960464477539063e-08\n",
      "  RuntimeWarning)\n",
      " 63%|██████████████████████████████████████████████████████▎                               | 631/1000 [02:52<01:40,  3.66it/s]C:\\Users\\r02as18\\AppData\\Local\\Continuum\\anaconda3\\lib\\site-packages\\scipy\\linalg\\basic.py:40: RuntimeWarning: scipy.linalg.solve\n",
      "Ill-conditioned matrix detected. Result is not guaranteed to be accurate.\n",
      "Reciprocal condition number/precision: 3.534088577339389e-08 / 5.960464477539063e-08\n",
      "  RuntimeWarning)\n",
      " 64%|██████████████████████████████████████████████████████▊                               | 637/1000 [02:54<01:39,  3.66it/s]C:\\Users\\r02as18\\AppData\\Local\\Continuum\\anaconda3\\lib\\site-packages\\scipy\\linalg\\basic.py:40: RuntimeWarning: scipy.linalg.solve\n",
      "Ill-conditioned matrix detected. Result is not guaranteed to be accurate.\n",
      "Reciprocal condition number/precision: 3.890977495757397e-08 / 5.960464477539063e-08\n",
      "  RuntimeWarning)\n",
      " 64%|███████████████████████████████████████████████████████▏                              | 641/1000 [02:55<01:38,  3.66it/s]C:\\Users\\r02as18\\AppData\\Local\\Continuum\\anaconda3\\lib\\site-packages\\scipy\\linalg\\basic.py:40: RuntimeWarning: scipy.linalg.solve\n",
      "Ill-conditioned matrix detected. Result is not guaranteed to be accurate.\n",
      "Reciprocal condition number/precision: 4.290458832656441e-08 / 5.960464477539063e-08\n",
      "  RuntimeWarning)\n",
      " 66%|█████████████████████████████████████████████████████████                             | 664/1000 [03:01<01:31,  3.65it/s]C:\\Users\\r02as18\\AppData\\Local\\Continuum\\anaconda3\\lib\\site-packages\\scipy\\linalg\\basic.py:40: RuntimeWarning: scipy.linalg.solve\n",
      "Ill-conditioned matrix detected. Result is not guaranteed to be accurate.\n",
      "Reciprocal condition number/precision: 4.2122731969129745e-08 / 5.960464477539063e-08\n",
      "  RuntimeWarning)\n",
      " 72%|██████████████████████████████████████████████████████████████▎                       | 725/1000 [03:18<01:15,  3.65it/s]C:\\Users\\r02as18\\AppData\\Local\\Continuum\\anaconda3\\lib\\site-packages\\scipy\\linalg\\basic.py:40: RuntimeWarning: scipy.linalg.solve\n",
      "Ill-conditioned matrix detected. Result is not guaranteed to be accurate.\n",
      "Reciprocal condition number/precision: 4.5829047223833186e-08 / 5.960464477539063e-08\n",
      "  RuntimeWarning)\n",
      " 76%|█████████████████████████████████████████████████████████████████▌                    | 763/1000 [03:29<01:04,  3.65it/s]C:\\Users\\r02as18\\AppData\\Local\\Continuum\\anaconda3\\lib\\site-packages\\scipy\\linalg\\basic.py:40: RuntimeWarning: scipy.linalg.solve\n",
      "Ill-conditioned matrix detected. Result is not guaranteed to be accurate.\n",
      "Reciprocal condition number/precision: 5.340788788998907e-08 / 5.960464477539063e-08\n",
      "  RuntimeWarning)\n",
      " 78%|███████████████████████████████████████████████████████████████████▏                  | 781/1000 [03:34<01:00,  3.65it/s]C:\\Users\\r02as18\\AppData\\Local\\Continuum\\anaconda3\\lib\\site-packages\\scipy\\linalg\\basic.py:40: RuntimeWarning: scipy.linalg.solve\n",
      "Ill-conditioned matrix detected. Result is not guaranteed to be accurate.\n",
      "Reciprocal condition number/precision: 4.131532449491715e-08 / 5.960464477539063e-08\n",
      "  RuntimeWarning)\n",
      " 79%|████████████████████████████████████████████████████████████████████▎                 | 794/1000 [03:37<00:56,  3.65it/s]C:\\Users\\r02as18\\AppData\\Local\\Continuum\\anaconda3\\lib\\site-packages\\scipy\\linalg\\basic.py:40: RuntimeWarning: scipy.linalg.solve\n",
      "Ill-conditioned matrix detected. Result is not guaranteed to be accurate.\n",
      "Reciprocal condition number/precision: 4.347431570295157e-08 / 5.960464477539063e-08\n",
      "  RuntimeWarning)\n",
      " 80%|█████████████████████████████████████████████████████████████████████                 | 803/1000 [03:40<00:54,  3.64it/s]C:\\Users\\r02as18\\AppData\\Local\\Continuum\\anaconda3\\lib\\site-packages\\scipy\\linalg\\basic.py:40: RuntimeWarning: scipy.linalg.solve\n",
      "Ill-conditioned matrix detected. Result is not guaranteed to be accurate.\n",
      "Reciprocal condition number/precision: 4.0913803900366474e-08 / 5.960464477539063e-08\n",
      "  RuntimeWarning)\n",
      " 80%|█████████████████████████████████████████████████████████████████████▏                | 804/1000 [03:40<00:53,  3.64it/s]C:\\Users\\r02as18\\AppData\\Local\\Continuum\\anaconda3\\lib\\site-packages\\scipy\\linalg\\basic.py:40: RuntimeWarning: scipy.linalg.solve\n",
      "Ill-conditioned matrix detected. Result is not guaranteed to be accurate.\n",
      "Reciprocal condition number/precision: 4.613451665136381e-08 / 5.960464477539063e-08\n",
      "  RuntimeWarning)\n",
      " 82%|██████████████████████████████████████████████████████████████████████                | 815/1000 [03:43<00:50,  3.64it/s]C:\\Users\\r02as18\\AppData\\Local\\Continuum\\anaconda3\\lib\\site-packages\\scipy\\linalg\\basic.py:40: RuntimeWarning: scipy.linalg.solve\n",
      "Ill-conditioned matrix detected. Result is not guaranteed to be accurate.\n",
      "Reciprocal condition number/precision: 5.197673402790315e-08 / 5.960464477539063e-08\n",
      "  RuntimeWarning)\n",
      " 82%|██████████████████████████████████████████████████████████████████████▌               | 821/1000 [03:45<00:49,  3.64it/s]C:\\Users\\r02as18\\AppData\\Local\\Continuum\\anaconda3\\lib\\site-packages\\scipy\\linalg\\basic.py:40: RuntimeWarning: scipy.linalg.solve\n",
      "Ill-conditioned matrix detected. Result is not guaranteed to be accurate.\n",
      "Reciprocal condition number/precision: 4.09454727900993e-08 / 5.960464477539063e-08\n",
      "  RuntimeWarning)\n",
      " 84%|███████████████████████████████████████████████████████████████████████▊              | 835/1000 [03:49<00:45,  3.64it/s]C:\\Users\\r02as18\\AppData\\Local\\Continuum\\anaconda3\\lib\\site-packages\\scipy\\linalg\\basic.py:40: RuntimeWarning: scipy.linalg.solve\n",
      "Ill-conditioned matrix detected. Result is not guaranteed to be accurate.\n",
      "Reciprocal condition number/precision: 5.411402526078746e-08 / 5.960464477539063e-08\n",
      "  RuntimeWarning)\n",
      " 86%|█████████████████████████████████████████████████████████████████████████▋            | 857/1000 [03:55<00:39,  3.64it/s]C:\\Users\\r02as18\\AppData\\Local\\Continuum\\anaconda3\\lib\\site-packages\\scipy\\linalg\\basic.py:40: RuntimeWarning: scipy.linalg.solve\n",
      "Ill-conditioned matrix detected. Result is not guaranteed to be accurate.\n",
      "Reciprocal condition number/precision: 5.049350093599969e-08 / 5.960464477539063e-08\n",
      "  RuntimeWarning)\n",
      " 87%|██████████████████████████████████████████████████████████████████████████▍           | 866/1000 [03:57<00:36,  3.65it/s]C:\\Users\\r02as18\\AppData\\Local\\Continuum\\anaconda3\\lib\\site-packages\\scipy\\linalg\\basic.py:40: RuntimeWarning: scipy.linalg.solve\n",
      "Ill-conditioned matrix detected. Result is not guaranteed to be accurate.\n",
      "Reciprocal condition number/precision: 4.914789286658561e-08 / 5.960464477539063e-08\n",
      "  RuntimeWarning)\n",
      " 88%|███████████████████████████████████████████████████████████████████████████▌          | 878/1000 [04:00<00:33,  3.65it/s]C:\\Users\\r02as18\\AppData\\Local\\Continuum\\anaconda3\\lib\\site-packages\\scipy\\linalg\\basic.py:40: RuntimeWarning: scipy.linalg.solve\n",
      "Ill-conditioned matrix detected. Result is not guaranteed to be accurate.\n",
      "Reciprocal condition number/precision: 4.2188283089217293e-08 / 5.960464477539063e-08\n",
      "  RuntimeWarning)\n",
      " 88%|███████████████████████████████████████████████████████████████████████████▊          | 882/1000 [04:01<00:32,  3.65it/s]C:\\Users\\r02as18\\AppData\\Local\\Continuum\\anaconda3\\lib\\site-packages\\scipy\\linalg\\basic.py:40: RuntimeWarning: scipy.linalg.solve\n",
      "Ill-conditioned matrix detected. Result is not guaranteed to be accurate.\n",
      "Reciprocal condition number/precision: 5.652465162597764e-08 / 5.960464477539063e-08\n",
      "  RuntimeWarning)\n",
      " 89%|████████████████████████████████████████████████████████████████████████████▏         | 886/1000 [04:03<00:31,  3.65it/s]C:\\Users\\r02as18\\AppData\\Local\\Continuum\\anaconda3\\lib\\site-packages\\scipy\\linalg\\basic.py:40: RuntimeWarning: scipy.linalg.solve\n",
      "Ill-conditioned matrix detected. Result is not guaranteed to be accurate.\n",
      "Reciprocal condition number/precision: 4.1056800625938195e-08 / 5.960464477539063e-08\n",
      "  RuntimeWarning)\n",
      " 94%|████████████████████████████████████████████████████████████████████████████████▍     | 935/1000 [04:16<00:17,  3.64it/s]C:\\Users\\r02as18\\AppData\\Local\\Continuum\\anaconda3\\lib\\site-packages\\scipy\\linalg\\basic.py:40: RuntimeWarning: scipy.linalg.solve\n",
      "Ill-conditioned matrix detected. Result is not guaranteed to be accurate.\n",
      "Reciprocal condition number/precision: 4.181706358963311e-08 / 5.960464477539063e-08\n",
      "  RuntimeWarning)\n",
      " 95%|█████████████████████████████████████████████████████████████████████████████████▎    | 946/1000 [04:19<00:14,  3.64it/s]C:\\Users\\r02as18\\AppData\\Local\\Continuum\\anaconda3\\lib\\site-packages\\scipy\\linalg\\basic.py:40: RuntimeWarning: scipy.linalg.solve\n",
      "Ill-conditioned matrix detected. Result is not guaranteed to be accurate.\n",
      "Reciprocal condition number/precision: 5.039516892679785e-08 / 5.960464477539063e-08\n",
      "  RuntimeWarning)\n",
      " 95%|█████████████████████████████████████████████████████████████████████████████████▌    | 948/1000 [04:20<00:14,  3.64it/s]C:\\Users\\r02as18\\AppData\\Local\\Continuum\\anaconda3\\lib\\site-packages\\scipy\\linalg\\basic.py:40: RuntimeWarning: scipy.linalg.solve\n",
      "Ill-conditioned matrix detected. Result is not guaranteed to be accurate.\n",
      "Reciprocal condition number/precision: 4.605330161666643e-08 / 5.960464477539063e-08\n",
      "  RuntimeWarning)\n",
      " 96%|██████████████████████████████████████████████████████████████████████████████████▏   | 955/1000 [04:22<00:12,  3.64it/s]C:\\Users\\r02as18\\AppData\\Local\\Continuum\\anaconda3\\lib\\site-packages\\scipy\\linalg\\basic.py:40: RuntimeWarning: scipy.linalg.solve\n",
      "Ill-conditioned matrix detected. Result is not guaranteed to be accurate.\n",
      "Reciprocal condition number/precision: 4.274260589909318e-08 / 5.960464477539063e-08\n",
      "  RuntimeWarning)\n",
      " 96%|██████████████████████████████████████████████████████████████████████████████████▍   | 959/1000 [04:23<00:11,  3.64it/s]C:\\Users\\r02as18\\AppData\\Local\\Continuum\\anaconda3\\lib\\site-packages\\scipy\\linalg\\basic.py:40: RuntimeWarning: scipy.linalg.solve\n",
      "Ill-conditioned matrix detected. Result is not guaranteed to be accurate.\n",
      "Reciprocal condition number/precision: 5.2824361773673445e-08 / 5.960464477539063e-08\n",
      "  RuntimeWarning)\n",
      "100%|█████████████████████████████████████████████████████████████████████████████████████| 1000/1000 [04:34<00:00,  3.64it/s]\n"
     ]
    }
   ],
   "source": [
    "import tqdm\n",
    "\n",
    "lbs = []\n",
    "fbs = []\n",
    "for n in tqdm.tqdm(range(n_iter)):\n",
    "    for i, fmt in enumerate(priors_names):\n",
    "        f = interp_data.geo_data_res.interfaces[\"formation\"] == fmt\n",
    "        interp_data.geo_data_res.interfaces.set_value(f, \"Z\", geo_data_res_stoch.interfaces[f][\"Z\"] + (prior_samples[i, n] / interp_data.rescaling_factor))\n",
    "\n",
    "    interp_data.update_interpolator()\n",
    "    \n",
    "    # print(np.sum(interp_data.geo_data_res.interfaces[\"Z\"]))\n",
    "    \n",
    "    lb, fb = gp.compute_model_at(grid, interp_data)\n",
    "    lbs.append(lb)\n",
    "    fbs.append(fb)\n",
    "    \n",
    "lbs = np.array(lbs)"
   ]
  },
  {
   "cell_type": "raw",
   "metadata": {},
   "source": [
    "plt.imshow(lbs[16][0].reshape(100,100).T, origin=\"lower\", \n",
    "           cmap=gp.plotting.colors.cmap, norm=gp.plotting.colors.norm);"
   ]
  },
  {
   "cell_type": "code",
   "execution_count": 155,
   "metadata": {},
   "outputs": [],
   "source": [
    "ie, iet = gp.posterior_analysis.calculate_ie(lbs[:,0,:].astype(\"int\"))"
   ]
  },
  {
   "cell_type": "code",
   "execution_count": 161,
   "metadata": {},
   "outputs": [
    {
     "data": {
      "text/plain": [
       "<matplotlib.colorbar.Colorbar at 0x2369d06ccc0>"
      ]
     },
     "execution_count": 161,
     "metadata": {},
     "output_type": "execute_result"
    },
    {
     "data": {
      "image/png": "[encoded data removed]",
      "text/plain": [
       "<Figure size 432x288 with 2 Axes>"
      ]
     },
     "metadata": {},
     "output_type": "display_data"
    }
   ],
   "source": [
    "plt.imshow(ie.reshape(100,100).T, origin=\"lower\", cmap=\"viridis\")\n",
    "plt.colorbar(label=\"Information Entropy (n=\"+str(lbs.shape[0])+\")\")"
   ]
  },
  {
   "cell_type": "code",
   "execution_count": 225,
   "metadata": {},
   "outputs": [],
   "source": [
    "from scipy import fftpack\n",
    "\n",
    "\n",
    "def get_2D_dct(img):\n",
    "    \"\"\" Get 2D Cosine Transform of Image\"\"\"\n",
    "    return fftpack.dct(fftpack.dct(img.T, norm='ortho', type=2).T, norm='ortho', type=2)\n",
    "\n",
    "\n",
    "def get_2d_idct(coefficients):\n",
    "    \"\"\" Get 2D Inverse Cosine Transform of Image\n",
    "    \"\"\"\n",
    "    return fftpack.idct(fftpack.idct(coefficients.T, norm='ortho', type=2).T, norm='ortho', type=2)\n",
    "\n",
    "\n",
    "def get_reconstructed_image(raw):\n",
    "    img = raw.clip(0, 255)\n",
    "    img = img.astype('uint8')\n",
    "    return img"
   ]
  },
  {
   "cell_type": "markdown",
   "metadata": {},
   "source": [
    "### Compute one DCT of model image as \"likelihood\" for ABC"
   ]
  },
  {
   "cell_type": "code",
   "execution_count": 226,
   "metadata": {},
   "outputs": [],
   "source": [
    "dct = get_2D_dct(lb[0].reshape(100,100))\n",
    "model_reconstructed = get_reconstructed_image(get_2d_idct(dct))"
   ]
  },
  {
   "cell_type": "code",
   "execution_count": 227,
   "metadata": {},
   "outputs": [
    {
     "data": {
      "text/plain": [
       "<matplotlib.image.AxesImage at 0x23683f04e48>"
      ]
     },
     "execution_count": 227,
     "metadata": {},
     "output_type": "execute_result"
    },
    {
     "data": {
      "image/png": "[encoded data removed]",
      "text/plain": [
       "<Figure size 432x288 with 1 Axes>"
      ]
     },
     "metadata": {},
     "output_type": "display_data"
    }
   ],
   "source": [
    "plt.imshow(model_reconstructed.T, origin=\"lower\", cmap=gp.plotting.colors.cmap, norm=gp.plotting.colors.norm)"
   ]
  },
  {
   "cell_type": "code",
   "execution_count": 253,
   "metadata": {},
   "outputs": [
    {
     "data": {
      "text/plain": [
       "<matplotlib.image.AxesImage at 0x23684552588>"
      ]
     },
     "execution_count": 253,
     "metadata": {},
     "output_type": "execute_result"
    },
    {
     "data": {
      "image/png": "[encoded data removed]",
      "text/plain": [
       "<Figure size 432x288 with 1 Axes>"
      ]
     },
     "metadata": {},
     "output_type": "display_data"
    }
   ],
   "source": [
    "plt.imshow(dct)"
   ]
  },
  {
   "cell_type": "code",
   "execution_count": 172,
   "metadata": {},
   "outputs": [
    {
     "data": {
      "text/plain": [
       "<matplotlib.image.AxesImage at 0x2369cf79c50>"
      ]
     },
     "execution_count": 172,
     "metadata": {},
     "output_type": "execute_result"
    },
    {
     "data": {
      "image/png": "[encoded data removed]",
      "text/plain": [
       "<Figure size 432x288 with 1 Axes>"
      ]
     },
     "metadata": {},
     "output_type": "display_data"
    }
   ],
   "source": [
    "plt.imshow(dct[0:2,0:10])"
   ]
  },
  {
   "cell_type": "markdown",
   "metadata": {},
   "source": [
    "## Just take the relevant part of the DCT:"
   ]
  },
  {
   "cell_type": "code",
   "execution_count": 179,
   "metadata": {},
   "outputs": [],
   "source": [
    "dct_data = dct[0:1,0:4].astype(int)"
   ]
  },
  {
   "cell_type": "markdown",
   "metadata": {},
   "source": [
    "## Rejection sampling of the simulated data:"
   ]
  },
  {
   "cell_type": "code",
   "execution_count": 249,
   "metadata": {},
   "outputs": [],
   "source": [
    "epsilon = 5.\n",
    "posterior_lbs = []\n",
    "posterior_fbs = []\n",
    "\n",
    "for i, lb in enumerate(lbs):\n",
    "    # calculate dct of model realisation\n",
    "    dct = get_2D_dct(lb[0].reshape(100,100))\n",
    "    \n",
    "    distance = np.average(np.sqrt(np.square(dct_data - dct[0:1,0:4])))\n",
    "    if distance < epsilon:\n",
    "        posterior_lbs.append(lb)\n",
    "        \n",
    "posterior_lbs = np.array(posterior_lbs)"
   ]
  },
  {
   "cell_type": "code",
   "execution_count": 250,
   "metadata": {},
   "outputs": [
    {
     "data": {
      "text/plain": [
       "(278, 2, 10000)"
      ]
     },
     "execution_count": 250,
     "metadata": {},
     "output_type": "execute_result"
    }
   ],
   "source": [
    "posterior_lbs.shape"
   ]
  },
  {
   "cell_type": "code",
   "execution_count": 251,
   "metadata": {},
   "outputs": [],
   "source": [
    "ie_post, iet_post = gp.posterior_analysis.calculate_ie(posterior_lbs[:,0,:].astype(\"int\"))"
   ]
  },
  {
   "cell_type": "code",
   "execution_count": 255,
   "metadata": {},
   "outputs": [
    {
     "data": {
      "image/png": "[encoded data removed]",
      "text/plain": [
       "<Figure size 720x360 with 2 Axes>"
      ]
     },
     "metadata": {},
     "output_type": "display_data"
    }
   ],
   "source": [
    "fig, ax = plt.subplots(ncols=2, figsize=(10,5))\n",
    "\n",
    "max_ = np.max([ie, ie_post])\n",
    "min_ = np.min([ie, ie_post])\n",
    "\n",
    "ax[0].imshow(ie.reshape(100,100).T, vmin=min_, vmax=max_, origin=\"lower\", cmap=\"viridis\")\n",
    "im = ax[1].imshow(ie_post.reshape(100,100).T, vmin=min_, vmax=max_, origin=\"lower\", cmap=\"viridis\")\n",
    "\n",
    "ax[0].set_title(\"Forward simulation\")\n",
    "ax[1].set_title(\"DCT rejection-ABC\");"
   ]
  },
  {
   "cell_type": "code",
   "execution_count": null,
   "metadata": {},
   "outputs": [],
   "source": []
  }
 ],
 "metadata": {
  "kernelspec": {
   "display_name": "Python [conda root]",
   "language": "python",
   "name": "conda-root-py"
  },
  "language_info": {
   "codemirror_mode": {
    "name": "ipython",
    "version": 3
   },
   "file_extension": ".py",
   "mimetype": "text/x-python",
   "name": "python",
   "nbconvert_exporter": "python",
   "pygments_lexer": "ipython3",
   "version": "3.6.5"
  }
 },
 "nbformat": 4,
 "nbformat_minor": 2
}
